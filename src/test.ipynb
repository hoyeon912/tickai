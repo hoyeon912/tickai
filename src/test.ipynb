{
 "cells": [
  {
   "cell_type": "code",
   "execution_count": 3,
   "metadata": {},
   "outputs": [],
   "source": [
    "from selenium import webdriver\n",
    "from selenium.webdriver.common.by import By\n",
    "from selenium.webdriver.chrome.service import Service\n",
    "from webdriver_manager.chrome import ChromeDriverManager"
   ]
  },
  {
   "cell_type": "code",
   "execution_count": 5,
   "metadata": {},
   "outputs": [
    {
     "name": "stderr",
     "output_type": "stream",
     "text": [
      "\n",
      "\n",
      "====== WebDriver manager ======\n",
      "Current google-chrome version is 100.0.4896\n",
      "Get LATEST chromedriver version for 100.0.4896 google-chrome\n",
      "Trying to download new driver from https://chromedriver.storage.googleapis.com/100.0.4896.60/chromedriver_mac64.zip\n",
      "Driver has been saved in cache [/Users/hoyeon/.wdm/drivers/chromedriver/mac64/100.0.4896.60]\n"
     ]
    }
   ],
   "source": [
    "driver = webdriver.Chrome(\n",
    "    service=Service(ChromeDriverManager().install())\n",
    ")\n",
    "driver.implicitly_wait(30)"
   ]
  },
  {
   "cell_type": "code",
   "execution_count": 7,
   "metadata": {},
   "outputs": [],
   "source": [
    "driver.get('https://www.investing.com/equities/bank-of-america-financial-summary')"
   ]
  },
  {
   "cell_type": "code",
   "execution_count": 12,
   "metadata": {},
   "outputs": [
    {
     "name": "stdout",
     "output_type": "stream",
     "text": [
      "Total Revenue 24550 23204 24008 22620\n",
      "Net Income 7067 7013 7691 9224\n"
     ]
    }
   ],
   "source": [
    "elements = driver.find_elements(\n",
    "    by=By.XPATH,\n",
    "    value='//*[@id=\"rsdiv\"]/div[1]/table/tbody/tr'\n",
    ")\n",
    "for element in elements:\n",
    "    print(element.text)"
   ]
  },
  {
   "cell_type": "code",
   "execution_count": 13,
   "metadata": {},
   "outputs": [
    {
     "name": "stdout",
     "output_type": "stream",
     "text": [
      "Gross margin\n",
      " TTM\n",
      "-\n",
      "Operating margin\n",
      " TTM\n",
      "36.52%\n",
      "Net Profit margin\n",
      " TTM\n",
      "34.62%\n",
      "Return on Investment\n",
      " TTM\n",
      "-\n",
      " Total Revenue  Net Income\n"
     ]
    }
   ],
   "source": [
    "elements = driver.find_elements(\n",
    "    by=By.XPATH,\n",
    "    value='//*[@id=\"rsdiv\"]/div[1]/div[1]/div'\n",
    ")\n",
    "for element in elements:\n",
    "    print(element.text)"
   ]
  },
  {
   "cell_type": "code",
   "execution_count": 14,
   "metadata": {},
   "outputs": [
    {
     "name": "stdout",
     "output_type": "stream",
     "text": [
      "Total Assets 3238223 3169495 3085446 3029894\n",
      "Total Liabilities 2971606 2899429 2812982 2752775\n",
      "Total Equity 266617 270066 272464 277119\n"
     ]
    }
   ],
   "source": [
    "elements = driver.find_elements(\n",
    "    by=By.XPATH,\n",
    "    value='//*[@id=\"rsdiv\"]/div[3]/table/tbody/tr'\n",
    ")\n",
    "for element in elements:\n",
    "    print(element.text)"
   ]
  },
  {
   "cell_type": "code",
   "execution_count": 16,
   "metadata": {},
   "outputs": [
    {
     "name": "stdout",
     "output_type": "stream",
     "text": [
      "Quick Ratio\n",
      " MRQ\n",
      "-\n",
      "Current Ratio\n",
      " MRQ\n",
      "-\n",
      "LT Debt to Equity\n",
      " MRQ\n",
      "104.54%\n",
      "Total Debt to Equity\n",
      " MRQ\n",
      "194.36%\n",
      " Total Assets  Total Liabilities\n"
     ]
    }
   ],
   "source": [
    "elements = driver.find_elements(\n",
    "    by=By.XPATH,\n",
    "    value='//*[@id=\"rsdiv\"]/div[3]/div[1]/div'\n",
    ")\n",
    "for element in elements:\n",
    "    print(element.text)"
   ]
  },
  {
   "cell_type": "code",
   "execution_count": 17,
   "metadata": {},
   "outputs": [
    {
     "name": "stdout",
     "output_type": "stream",
     "text": [
      "Cash From Operating Activities -7193 -51844 -61639\n",
      "Cash From Investing Activities -313291 -254384 -221686\n",
      "Cash From Financing Activities 291650 208610 164947\n",
      "Net Change in Cash -32242 -100609 -120433\n"
     ]
    }
   ],
   "source": [
    "elements = driver.find_elements(\n",
    "    by=By.XPATH,\n",
    "    value='//*[@id=\"rsdiv\"]/div[5]/table/tbody/tr'\n",
    ")\n",
    "for element in elements:\n",
    "    print(element.text)"
   ]
  },
  {
   "cell_type": "code",
   "execution_count": 18,
   "metadata": {},
   "outputs": [
    {
     "name": "stdout",
     "output_type": "stream",
     "text": [
      "Cash Flow/Share\n",
      " TTM\n",
      "2.9\n",
      "Revenue/Share\n",
      " TTM\n",
      "10.64\n",
      "Operating Cash Flow\n",
      "  -\n",
      " Cash  Net Change in Cash\n"
     ]
    }
   ],
   "source": [
    "elements = driver.find_elements(\n",
    "    by=By.XPATH,\n",
    "    value='//*[@id=\"rsdiv\"]/div[5]/div[1]/div'\n",
    ")\n",
    "for element in elements:\n",
    "    print(element.text)"
   ]
  },
  {
   "cell_type": "code",
   "execution_count": 22,
   "metadata": {},
   "outputs": [],
   "source": [
    "def parse_data(url: str) -> None:\n",
    "    driver.get(url)\n",
    "\n",
    "    elements = driver.find_elements(\n",
    "        by=By.XPATH,\n",
    "        value='//*[@id=\"rsdiv\"]/div[1]/table/tbody/tr'\n",
    "    )\n",
    "    for element in elements:\n",
    "        print(element.text)\n",
    "\n",
    "    elements = driver.find_elements(\n",
    "        by=By.XPATH,\n",
    "        value='//*[@id=\"rsdiv\"]/div[1]/div[1]/div'\n",
    "    )\n",
    "    for element in elements[:-1]:\n",
    "        print(element.text)\n",
    "\n",
    "    elements = driver.find_elements(\n",
    "        by=By.XPATH,\n",
    "        value='//*[@id=\"rsdiv\"]/div[3]/table/tbody/tr'\n",
    "    )\n",
    "    for element in elements:\n",
    "        print(element.text)\n",
    "\n",
    "    elements = driver.find_elements(\n",
    "        by=By.XPATH,\n",
    "        value='//*[@id=\"rsdiv\"]/div[3]/div[1]/div'\n",
    "    )\n",
    "    for element in elements[:-1]:\n",
    "        print(element.text)\n",
    "\n",
    "    elements = driver.find_elements(\n",
    "        by=By.XPATH,\n",
    "        value='//*[@id=\"rsdiv\"]/div[5]/table/tbody/tr'\n",
    "    )\n",
    "    for element in elements:\n",
    "        print(element.text)\n",
    "        \n",
    "    elements = driver.find_elements(\n",
    "        by=By.XPATH,\n",
    "        value='//*[@id=\"rsdiv\"]/div[5]/div[1]/div'\n",
    "    )\n",
    "    for element in elements[:-1]:\n",
    "        print(element.text)"
   ]
  },
  {
   "cell_type": "code",
   "execution_count": 23,
   "metadata": {},
   "outputs": [
    {
     "name": "stdout",
     "output_type": "stream",
     "text": [
      "Total Revenue 7867.77 7709.32 7483.47 7341.78\n",
      "Gross Profit 3583.06 3892.74 3276.88 3323.77\n",
      "Operating Income 1971.63 631.77 1755.25 1847.63\n",
      "Net Income 1597.45 607.43 1449.07 1353.01\n",
      "Gross margin\n",
      " TTM\n",
      "46.3%\n",
      "Operating margin\n",
      " TTM\n",
      "20.41%\n",
      "Net Profit margin\n",
      " TTM\n",
      "15.63%\n",
      "Return on Investment\n",
      " TTM\n",
      "13.63%\n",
      "Total Assets 45330.9 44584.66 42739.86 40970.97\n",
      "Total Liabilities 27786.87 28735.42 27425.24 27107.1\n",
      "Total Equity 17544.04 15849.25 15314.62 13863.87\n",
      "Quick Ratio\n",
      " MRQ\n",
      "-\n",
      "Current Ratio\n",
      " MRQ\n",
      "1.05\n",
      "LT Debt to Equity\n",
      " MRQ\n",
      "82.85%\n",
      "Total Debt to Equity\n",
      " MRQ\n",
      "82.85%\n",
      "Cash From Operating Activities 922.84 392.61 795.88 713.5\n",
      "Cash From Investing Activities -245.68 -1339.85 -385.52 -196.89\n",
      "Cash From Financing Activities -686.32 -1149.78 -1013.76 -932.2\n",
      "Net Change in Cash -20.61 -2183.76 -685.9 -434.25\n",
      "Cash Flow/Share\n",
      " TTM\n",
      "38.88\n",
      "Revenue/Share\n",
      " TTM\n",
      "66.86\n",
      "Operating Cash Flow\n",
      "  11.92%\n"
     ]
    }
   ],
   "source": [
    "parse_data('https://www.investing.com/equities/netflix,-inc.-financial-summary')"
   ]
  },
  {
   "cell_type": "code",
   "execution_count": 68,
   "metadata": {},
   "outputs": [
    {
     "data": {
      "text/plain": [
       "3"
      ]
     },
     "execution_count": 68,
     "metadata": {},
     "output_type": "execute_result"
    }
   ],
   "source": [
    "income_statement = [\n",
    "    ['Total Revenue', 'Gross Profit', 'Operating Income', 'Net Income'],\n",
    "    ['Gross margin', 'Operating margin', 'Net Profit margin', 'Return on Investment']    \n",
    "]\n",
    "income_statement[0].index('Net Income')"
   ]
  },
  {
   "cell_type": "code",
   "execution_count": 28,
   "metadata": {},
   "outputs": [],
   "source": [
    "driver.get('https://www.investing.com/equities/bank-of-america-financial-summary')\n",
    "rows = driver.find_elements(\n",
    "        by=By.XPATH,\n",
    "        value='//*[@id=\"rsdiv\"]/div[1]/table/tbody/tr'\n",
    ")"
   ]
  },
  {
   "cell_type": "code",
   "execution_count": 66,
   "metadata": {},
   "outputs": [],
   "source": [
    "def trim(elements: list) -> list:\n",
    "    data = []\n",
    "    for e in elements:\n",
    "        try:\n",
    "            value = float(e.text)\n",
    "        except:\n",
    "            value = 0\n",
    "        finally:\n",
    "            data.append(value)\n",
    "    return data"
   ]
  },
  {
   "cell_type": "code",
   "execution_count": 58,
   "metadata": {},
   "outputs": [],
   "source": [
    "import numpy as np\n",
    "\n",
    "def sum(elements: list) -> float:\n",
    "    data = np.array(trim(elements), dtype=np.float32)\n",
    "    return np.sum(data)"
   ]
  },
  {
   "cell_type": "code",
   "execution_count": 69,
   "metadata": {},
   "outputs": [
    {
     "name": "stdout",
     "output_type": "stream",
     "text": [
      "[    0.     0.     0. 30995.]\n"
     ]
    }
   ],
   "source": [
    "tmp = np.zeros(len(income_statement[0]))\n",
    "row = rows[1]\n",
    "data = row.find_elements(\n",
    "    by=By.TAG_NAME,\n",
    "    value='td'\n",
    ")\n",
    "if data[0].text in income_statement[0]:\n",
    "    tmp[income_statement[0].index(data[0].text)] = sum(data[1:])\n",
    "print(tmp)"
   ]
  },
  {
   "cell_type": "code",
   "execution_count": 70,
   "metadata": {},
   "outputs": [],
   "source": [
    "rows = driver.find_elements(\n",
    "        by=By.XPATH,\n",
    "        value='//*[@id=\"rsdiv\"]/div[1]/div[1]/div'\n",
    ")"
   ]
  },
  {
   "cell_type": "code",
   "execution_count": 80,
   "metadata": {},
   "outputs": [
    {
     "name": "stdout",
     "output_type": "stream",
     "text": [
      "34.62%\n"
     ]
    }
   ],
   "source": [
    "spans = rows[2].find_elements(\n",
    "    by=By.TAG_NAME,\n",
    "    value='span'\n",
    ")\n",
    "print(spans[-1].text)"
   ]
  },
  {
   "cell_type": "code",
   "execution_count": 82,
   "metadata": {},
   "outputs": [],
   "source": [
    "def to_float(text: str) -> float:\n",
    "    if '%' in text:\n",
    "        return float(text[:-1]) / 100\n",
    "    else:\n",
    "        return .0"
   ]
  },
  {
   "cell_type": "code",
   "execution_count": 83,
   "metadata": {},
   "outputs": [
    {
     "data": {
      "text/plain": [
       "0.34619999999999995"
      ]
     },
     "execution_count": 83,
     "metadata": {},
     "output_type": "execute_result"
    }
   ],
   "source": [
    "to_float(spans[-1].text)"
   ]
  },
  {
   "cell_type": "code",
   "execution_count": null,
   "metadata": {},
   "outputs": [],
   "source": []
  }
 ],
 "metadata": {
  "interpreter": {
   "hash": "0839c5aa6ff751a8d67bee44d1e1af6e0d281e6233854d8bd4b5a124408c790d"
  },
  "kernelspec": {
   "display_name": "Python 3.10.2 ('.venv': venv)",
   "language": "python",
   "name": "python3"
  },
  "language_info": {
   "codemirror_mode": {
    "name": "ipython",
    "version": 3
   },
   "file_extension": ".py",
   "mimetype": "text/x-python",
   "name": "python",
   "nbconvert_exporter": "python",
   "pygments_lexer": "ipython3",
   "version": "3.10.2"
  },
  "orig_nbformat": 4
 },
 "nbformat": 4,
 "nbformat_minor": 2
}

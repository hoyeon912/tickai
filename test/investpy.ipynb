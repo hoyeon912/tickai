{
 "cells": [
  {
   "cell_type": "code",
   "execution_count": 1,
   "metadata": {},
   "outputs": [],
   "source": [
    "import investpy"
   ]
  },
  {
   "cell_type": "code",
   "execution_count": 3,
   "metadata": {},
   "outputs": [
    {
     "data": {
      "text/plain": [
       "[<investpy.utils.search_obj.SearchObj at 0x1102be830>,\n",
       " <investpy.utils.search_obj.SearchObj at 0x1102bfe80>,\n",
       " <investpy.utils.search_obj.SearchObj at 0x1102bfa30>]"
      ]
     },
     "execution_count": 3,
     "metadata": {},
     "output_type": "execute_result"
    }
   ],
   "source": [
    "search_result = investpy.search_quotes('apple',['stocks'],['united states'])\n",
    "search_result"
   ]
  },
  {
   "cell_type": "code",
   "execution_count": 8,
   "metadata": {},
   "outputs": [
    {
     "name": "stdout",
     "output_type": "stream",
     "text": [
      "{\"id_\": 6408, \"name\": \"Apple Inc\", \"symbol\": \"AAPL\", \"country\": \"united states\", \"tag\": \"/equities/apple-computer-inc\", \"pair_type\": \"stocks\", \"exchange\": \"NASDAQ\"}\n",
      "{\"id_\": 959642, \"name\": \"Apple Hospitality REIT Inc\", \"symbol\": \"APLE\", \"country\": \"united states\", \"tag\": \"/equities/apple-hospitality-reit-inc\", \"pair_type\": \"stocks\", \"exchange\": \"NYSE\"}\n",
      "{\"id_\": 51484, \"name\": \"Apple Rush Company\", \"symbol\": \"APRU\", \"country\": \"united states\", \"tag\": \"/equities/apple-rush-company\", \"pair_type\": \"stocks\", \"exchange\": \"OTC Markets\"}\n"
     ]
    }
   ],
   "source": [
    "for obj in search_result:\n",
    "    print(obj)"
   ]
  },
  {
   "cell_type": "code",
   "execution_count": 9,
   "metadata": {},
   "outputs": [
    {
     "data": {
      "text/html": [
       "<div>\n",
       "<style scoped>\n",
       "    .dataframe tbody tr th:only-of-type {\n",
       "        vertical-align: middle;\n",
       "    }\n",
       "\n",
       "    .dataframe tbody tr th {\n",
       "        vertical-align: top;\n",
       "    }\n",
       "\n",
       "    .dataframe thead th {\n",
       "        text-align: right;\n",
       "    }\n",
       "</style>\n",
       "<table border=\"1\" class=\"dataframe\">\n",
       "  <thead>\n",
       "    <tr style=\"text-align: right;\">\n",
       "      <th></th>\n",
       "      <th>country</th>\n",
       "      <th>name</th>\n",
       "      <th>full_name</th>\n",
       "      <th>isin</th>\n",
       "      <th>currency</th>\n",
       "      <th>symbol</th>\n",
       "    </tr>\n",
       "  </thead>\n",
       "  <tbody>\n",
       "    <tr>\n",
       "      <th>0</th>\n",
       "      <td>argentina</td>\n",
       "      <td>Apple DRC</td>\n",
       "      <td>Apple Inc DRC</td>\n",
       "      <td>ARDEUT116183</td>\n",
       "      <td>ARS</td>\n",
       "      <td>AAPL</td>\n",
       "    </tr>\n",
       "    <tr>\n",
       "      <th>1</th>\n",
       "      <td>brazil</td>\n",
       "      <td>Apple Inc BDR</td>\n",
       "      <td>Apple Inc BDR</td>\n",
       "      <td>BRAAPLBDR004</td>\n",
       "      <td>BRL</td>\n",
       "      <td>AAPL34</td>\n",
       "    </tr>\n",
       "    <tr>\n",
       "      <th>2</th>\n",
       "      <td>mexico</td>\n",
       "      <td>Apple</td>\n",
       "      <td>Apple Inc</td>\n",
       "      <td>US0378331005</td>\n",
       "      <td>MXN</td>\n",
       "      <td>AAPL</td>\n",
       "    </tr>\n",
       "    <tr>\n",
       "      <th>3</th>\n",
       "      <td>united states</td>\n",
       "      <td>Apple</td>\n",
       "      <td>Apple Inc</td>\n",
       "      <td>US0378331005</td>\n",
       "      <td>USD</td>\n",
       "      <td>AAPL</td>\n",
       "    </tr>\n",
       "    <tr>\n",
       "      <th>4</th>\n",
       "      <td>united states</td>\n",
       "      <td>Maui Land&amp;Pineapple</td>\n",
       "      <td>Maui Land &amp; Pineapple Company Inc</td>\n",
       "      <td>US5773451019</td>\n",
       "      <td>USD</td>\n",
       "      <td>MLP</td>\n",
       "    </tr>\n",
       "    <tr>\n",
       "      <th>5</th>\n",
       "      <td>united states</td>\n",
       "      <td>Apple Hospitality REIT</td>\n",
       "      <td>Apple Hospitality REIT Inc</td>\n",
       "      <td>US03784Y2000</td>\n",
       "      <td>USD</td>\n",
       "      <td>APLE</td>\n",
       "    </tr>\n",
       "    <tr>\n",
       "      <th>6</th>\n",
       "      <td>austria</td>\n",
       "      <td>Apple</td>\n",
       "      <td>Apple Inc</td>\n",
       "      <td>US0378331005</td>\n",
       "      <td>EUR</td>\n",
       "      <td>AAPL</td>\n",
       "    </tr>\n",
       "    <tr>\n",
       "      <th>7</th>\n",
       "      <td>ireland</td>\n",
       "      <td>Applegreen Plc</td>\n",
       "      <td>Applegreen Plc</td>\n",
       "      <td>IE00BXC8D038</td>\n",
       "      <td>EUR</td>\n",
       "      <td>APGNA</td>\n",
       "    </tr>\n",
       "    <tr>\n",
       "      <th>8</th>\n",
       "      <td>italy</td>\n",
       "      <td>Apple</td>\n",
       "      <td>Apple Inc</td>\n",
       "      <td>US0378331005</td>\n",
       "      <td>EUR</td>\n",
       "      <td>AAPLE</td>\n",
       "    </tr>\n",
       "    <tr>\n",
       "      <th>9</th>\n",
       "      <td>switzerland</td>\n",
       "      <td>Apple</td>\n",
       "      <td>Apple Inc</td>\n",
       "      <td>US0378331005</td>\n",
       "      <td>EUR</td>\n",
       "      <td>AAPLEUR</td>\n",
       "    </tr>\n",
       "    <tr>\n",
       "      <th>10</th>\n",
       "      <td>switzerland</td>\n",
       "      <td>Apple</td>\n",
       "      <td>Apple Inc</td>\n",
       "      <td>US0378331005</td>\n",
       "      <td>USD</td>\n",
       "      <td>AAPLUSD</td>\n",
       "    </tr>\n",
       "    <tr>\n",
       "      <th>11</th>\n",
       "      <td>switzerland</td>\n",
       "      <td>Apple</td>\n",
       "      <td>Apple Inc</td>\n",
       "      <td>US0378331005</td>\n",
       "      <td>CHF</td>\n",
       "      <td>AAPL</td>\n",
       "    </tr>\n",
       "    <tr>\n",
       "      <th>12</th>\n",
       "      <td>china</td>\n",
       "      <td>Apple Flavor &amp; Fragrance</td>\n",
       "      <td>Apple Flavor &amp; Fragrance Group Co Ltd</td>\n",
       "      <td>CNE1000025D1</td>\n",
       "      <td>CNY</td>\n",
       "      <td>603020</td>\n",
       "    </tr>\n",
       "    <tr>\n",
       "      <th>13</th>\n",
       "      <td>japan</td>\n",
       "      <td>Apple International</td>\n",
       "      <td>Apple International Co Ltd</td>\n",
       "      <td>JP3121170009</td>\n",
       "      <td>JPY</td>\n",
       "      <td>2788</td>\n",
       "    </tr>\n",
       "  </tbody>\n",
       "</table>\n",
       "</div>"
      ],
      "text/plain": [
       "          country                      name  \\\n",
       "0       argentina                 Apple DRC   \n",
       "1          brazil             Apple Inc BDR   \n",
       "2          mexico                     Apple   \n",
       "3   united states                     Apple   \n",
       "4   united states       Maui Land&Pineapple   \n",
       "5   united states    Apple Hospitality REIT   \n",
       "6         austria                     Apple   \n",
       "7         ireland            Applegreen Plc   \n",
       "8           italy                     Apple   \n",
       "9     switzerland                     Apple   \n",
       "10    switzerland                     Apple   \n",
       "11    switzerland                     Apple   \n",
       "12          china  Apple Flavor & Fragrance   \n",
       "13          japan       Apple International   \n",
       "\n",
       "                                full_name          isin currency   symbol  \n",
       "0                           Apple Inc DRC  ARDEUT116183      ARS     AAPL  \n",
       "1                           Apple Inc BDR  BRAAPLBDR004      BRL   AAPL34  \n",
       "2                               Apple Inc  US0378331005      MXN     AAPL  \n",
       "3                               Apple Inc  US0378331005      USD     AAPL  \n",
       "4       Maui Land & Pineapple Company Inc  US5773451019      USD      MLP  \n",
       "5              Apple Hospitality REIT Inc  US03784Y2000      USD     APLE  \n",
       "6                               Apple Inc  US0378331005      EUR     AAPL  \n",
       "7                          Applegreen Plc  IE00BXC8D038      EUR    APGNA  \n",
       "8                               Apple Inc  US0378331005      EUR    AAPLE  \n",
       "9                               Apple Inc  US0378331005      EUR  AAPLEUR  \n",
       "10                              Apple Inc  US0378331005      USD  AAPLUSD  \n",
       "11                              Apple Inc  US0378331005      CHF     AAPL  \n",
       "12  Apple Flavor & Fragrance Group Co Ltd  CNE1000025D1      CNY   603020  \n",
       "13             Apple International Co Ltd  JP3121170009      JPY     2788  "
      ]
     },
     "execution_count": 9,
     "metadata": {},
     "output_type": "execute_result"
    }
   ],
   "source": [
    "search_result = investpy.search_stocks(by='full_name', value='Apple')\n",
    "search_result"
   ]
  },
  {
   "cell_type": "code",
   "execution_count": 10,
   "metadata": {},
   "outputs": [
    {
     "name": "stdout",
     "output_type": "stream",
     "text": [
      "{\"id_\": 6408, \"name\": \"Apple Inc\", \"symbol\": \"AAPL\", \"country\": \"united states\", \"tag\": \"/equities/apple-computer-inc\", \"pair_type\": \"stocks\", \"exchange\": \"NASDAQ\"}\n"
     ]
    }
   ],
   "source": [
    "search_result = investpy.search_quotes('apple',['stocks'],['united states'],1)\n",
    "print(search_result)"
   ]
  },
  {
   "cell_type": "code",
   "execution_count": 15,
   "metadata": {},
   "outputs": [
    {
     "name": "stdout",
     "output_type": "stream",
     "text": [
      "https://investing.com/equities/apple-computer-inc\n"
     ]
    }
   ],
   "source": [
    "print('https://investing.com' + search_result.tag)"
   ]
  },
  {
   "cell_type": "code",
   "execution_count": 16,
   "metadata": {},
   "outputs": [
    {
     "data": {
      "text/plain": [
       "{'prevClose': 146.5,\n",
       " 'dailyRange': '140.09-146.13',\n",
       " 'revenue': 386020000000,\n",
       " 'open': 142.8,\n",
       " 'weekRange': '122.86-182.94',\n",
       " 'eps': 6.15,\n",
       " 'volume': 55855803,\n",
       " 'marketCap': 2290000000000,\n",
       " 'dividend': '0.92(0.63%)',\n",
       " 'avgVolume': 92431071,\n",
       " 'ratio': 23.81,\n",
       " 'beta': 1.21,\n",
       " 'oneYearReturn': '16.35%',\n",
       " 'sharesOutstanding': 16185181000,\n",
       " 'nextEarningDate': '02/08/2022'}"
      ]
     },
     "execution_count": 16,
     "metadata": {},
     "output_type": "execute_result"
    }
   ],
   "source": [
    "search_result.retrieve_information()"
   ]
  },
  {
   "cell_type": "code",
   "execution_count": 18,
   "metadata": {},
   "outputs": [
    {
     "data": {
      "text/plain": [
       "16185181000"
      ]
     },
     "execution_count": 18,
     "metadata": {},
     "output_type": "execute_result"
    }
   ],
   "source": [
    "search_result.retrieve_information()['sharesOutstanding']"
   ]
  },
  {
   "cell_type": "code",
   "execution_count": 23,
   "metadata": {},
   "outputs": [
    {
     "data": {
      "text/html": [
       "<div>\n",
       "<style scoped>\n",
       "    .dataframe tbody tr th:only-of-type {\n",
       "        vertical-align: middle;\n",
       "    }\n",
       "\n",
       "    .dataframe tbody tr th {\n",
       "        vertical-align: top;\n",
       "    }\n",
       "\n",
       "    .dataframe thead th {\n",
       "        text-align: right;\n",
       "    }\n",
       "</style>\n",
       "<table border=\"1\" class=\"dataframe\">\n",
       "  <thead>\n",
       "    <tr style=\"text-align: right;\">\n",
       "      <th></th>\n",
       "      <th>Open</th>\n",
       "      <th>High</th>\n",
       "      <th>Low</th>\n",
       "      <th>Close</th>\n",
       "      <th>Volume</th>\n",
       "      <th>Change Pct</th>\n",
       "    </tr>\n",
       "    <tr>\n",
       "      <th>Date</th>\n",
       "      <th></th>\n",
       "      <th></th>\n",
       "      <th></th>\n",
       "      <th></th>\n",
       "      <th></th>\n",
       "      <th></th>\n",
       "    </tr>\n",
       "  </thead>\n",
       "  <tbody>\n",
       "    <tr>\n",
       "      <th>2021-01-04</th>\n",
       "      <td>133.52</td>\n",
       "      <td>133.61</td>\n",
       "      <td>126.76</td>\n",
       "      <td>129.41</td>\n",
       "      <td>143302000</td>\n",
       "      <td>-2.47</td>\n",
       "    </tr>\n",
       "    <tr>\n",
       "      <th>2021-01-05</th>\n",
       "      <td>128.89</td>\n",
       "      <td>131.74</td>\n",
       "      <td>128.43</td>\n",
       "      <td>131.01</td>\n",
       "      <td>97665000</td>\n",
       "      <td>1.24</td>\n",
       "    </tr>\n",
       "    <tr>\n",
       "      <th>2021-01-06</th>\n",
       "      <td>127.72</td>\n",
       "      <td>131.05</td>\n",
       "      <td>126.38</td>\n",
       "      <td>126.60</td>\n",
       "      <td>155088000</td>\n",
       "      <td>-3.37</td>\n",
       "    </tr>\n",
       "    <tr>\n",
       "      <th>2021-01-07</th>\n",
       "      <td>128.36</td>\n",
       "      <td>131.63</td>\n",
       "      <td>127.86</td>\n",
       "      <td>130.92</td>\n",
       "      <td>109578000</td>\n",
       "      <td>3.41</td>\n",
       "    </tr>\n",
       "    <tr>\n",
       "      <th>2021-01-08</th>\n",
       "      <td>132.43</td>\n",
       "      <td>132.63</td>\n",
       "      <td>130.23</td>\n",
       "      <td>132.05</td>\n",
       "      <td>105158000</td>\n",
       "      <td>0.86</td>\n",
       "    </tr>\n",
       "    <tr>\n",
       "      <th>...</th>\n",
       "      <td>...</td>\n",
       "      <td>...</td>\n",
       "      <td>...</td>\n",
       "      <td>...</td>\n",
       "      <td>...</td>\n",
       "      <td>...</td>\n",
       "    </tr>\n",
       "    <tr>\n",
       "      <th>2021-12-27</th>\n",
       "      <td>177.09</td>\n",
       "      <td>180.42</td>\n",
       "      <td>177.07</td>\n",
       "      <td>180.33</td>\n",
       "      <td>73007000</td>\n",
       "      <td>2.30</td>\n",
       "    </tr>\n",
       "    <tr>\n",
       "      <th>2021-12-28</th>\n",
       "      <td>180.16</td>\n",
       "      <td>181.33</td>\n",
       "      <td>178.53</td>\n",
       "      <td>179.29</td>\n",
       "      <td>76894000</td>\n",
       "      <td>-0.58</td>\n",
       "    </tr>\n",
       "    <tr>\n",
       "      <th>2021-12-29</th>\n",
       "      <td>179.33</td>\n",
       "      <td>180.63</td>\n",
       "      <td>178.14</td>\n",
       "      <td>179.38</td>\n",
       "      <td>61073000</td>\n",
       "      <td>0.05</td>\n",
       "    </tr>\n",
       "    <tr>\n",
       "      <th>2021-12-30</th>\n",
       "      <td>179.47</td>\n",
       "      <td>180.57</td>\n",
       "      <td>178.09</td>\n",
       "      <td>178.20</td>\n",
       "      <td>59356000</td>\n",
       "      <td>-0.66</td>\n",
       "    </tr>\n",
       "    <tr>\n",
       "      <th>2021-12-31</th>\n",
       "      <td>178.09</td>\n",
       "      <td>179.23</td>\n",
       "      <td>177.26</td>\n",
       "      <td>177.57</td>\n",
       "      <td>64062000</td>\n",
       "      <td>-0.35</td>\n",
       "    </tr>\n",
       "  </tbody>\n",
       "</table>\n",
       "<p>252 rows × 6 columns</p>\n",
       "</div>"
      ],
      "text/plain": [
       "              Open    High     Low   Close     Volume  Change Pct\n",
       "Date                                                             \n",
       "2021-01-04  133.52  133.61  126.76  129.41  143302000       -2.47\n",
       "2021-01-05  128.89  131.74  128.43  131.01   97665000        1.24\n",
       "2021-01-06  127.72  131.05  126.38  126.60  155088000       -3.37\n",
       "2021-01-07  128.36  131.63  127.86  130.92  109578000        3.41\n",
       "2021-01-08  132.43  132.63  130.23  132.05  105158000        0.86\n",
       "...            ...     ...     ...     ...        ...         ...\n",
       "2021-12-27  177.09  180.42  177.07  180.33   73007000        2.30\n",
       "2021-12-28  180.16  181.33  178.53  179.29   76894000       -0.58\n",
       "2021-12-29  179.33  180.63  178.14  179.38   61073000        0.05\n",
       "2021-12-30  179.47  180.57  178.09  178.20   59356000       -0.66\n",
       "2021-12-31  178.09  179.23  177.26  177.57   64062000       -0.35\n",
       "\n",
       "[252 rows x 6 columns]"
      ]
     },
     "execution_count": 23,
     "metadata": {},
     "output_type": "execute_result"
    }
   ],
   "source": [
    "df = search_result.retrieve_historical_data(from_date='01/01/2021', to_date='31/12/2021')\n",
    "df"
   ]
  },
  {
   "cell_type": "code",
   "execution_count": 30,
   "metadata": {},
   "outputs": [
    {
     "name": "stdout",
     "output_type": "stream",
     "text": [
      "182.13\n",
      "116.21\n",
      "(252, 6)\n"
     ]
    }
   ],
   "source": [
    "print(df['High'].max())\n",
    "print(df['Low'].min())\n",
    "print(df.shape)"
   ]
  },
  {
   "cell_type": "code",
   "execution_count": null,
   "metadata": {},
   "outputs": [],
   "source": []
  }
 ],
 "metadata": {
  "interpreter": {
   "hash": "0839c5aa6ff751a8d67bee44d1e1af6e0d281e6233854d8bd4b5a124408c790d"
  },
  "kernelspec": {
   "display_name": "Python 3.10.4 ('.venv': venv)",
   "language": "python",
   "name": "python3"
  },
  "language_info": {
   "codemirror_mode": {
    "name": "ipython",
    "version": 3
   },
   "file_extension": ".py",
   "mimetype": "text/x-python",
   "name": "python",
   "nbconvert_exporter": "python",
   "pygments_lexer": "ipython3",
   "version": "3.10.4"
  },
  "orig_nbformat": 4
 },
 "nbformat": 4,
 "nbformat_minor": 2
}
